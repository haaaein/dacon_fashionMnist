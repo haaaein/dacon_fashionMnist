{
  "nbformat": 4,
  "nbformat_minor": 0,
  "metadata": {
    "accelerator": "GPU",
    "colab": {
      "name": "week5_0.9435_fashionMNIST.ipynb",
      "provenance": [],
      "collapsed_sections": []
    },
    "kernelspec": {
      "display_name": "Python 3",
      "name": "python3"
    },
    "language_info": {
      "name": "python"
    }
  },
  "cells": [
    {
      "cell_type": "code",
      "metadata": {
        "colab": {
          "base_uri": "https://localhost:8080/"
        },
        "id": "BxSLZCC3_ZsP",
        "outputId": "a1dfd4b9-586d-4ead-9209-998c8684f3b2"
      },
      "source": [
        "from google.colab import drive\n",
        "drive.mount('/content/gdrive')"
      ],
      "execution_count": 1,
      "outputs": [
        {
          "output_type": "stream",
          "text": [
            "Mounted at /content/gdrive\n"
          ],
          "name": "stdout"
        }
      ]
    },
    {
      "cell_type": "code",
      "metadata": {
        "id": "Jz5aO0phPWJR"
      },
      "source": [
        "import matplotlib.pyplot as plt\n",
        "%matplotlib inline\n",
        "import numpy as np\n",
        "import pandas as pd\n",
        "\n",
        "from tensorflow.keras.models import *\n",
        "from tensorflow.keras.layers import Conv2D, MaxPooling2D, Dense, Flatten, Dropout, BatchNormalization\n",
        "from tensorflow.keras.optimizers import Adam, RMSprop\n",
        "from tensorflow.keras.regularizers import *\n",
        "from tensorflow.keras.callbacks import EarlyStopping\n",
        "from sklearn.model_selection import train_test_split\n",
        "from tensorflow.keras.preprocessing.image import ImageDataGenerator\n",
        "from sklearn.model_selection import StratifiedKFold"
      ],
      "execution_count": 2,
      "outputs": []
    },
    {
      "cell_type": "code",
      "metadata": {
        "id": "uHXbMZM4PWrQ"
      },
      "source": [
        "train = pd.read_csv('gdrive/MyDrive/data/train.csv').iloc[:, 1:]\n",
        "test = pd.read_csv('gdrive/MyDrive/data/test.csv').iloc[:, 1:]\n",
        "submission = pd.read_csv('gdrive/MyDrive/data/sample_submission.csv')"
      ],
      "execution_count": 3,
      "outputs": []
    },
    {
      "cell_type": "code",
      "metadata": {
        "id": "QCfDx623PW9M"
      },
      "source": [
        "X = np.array(train.drop('label', axis = 1), dtype = 'float32')\n",
        "y = train.label\n",
        "target = np.array(test, dtype='float32')"
      ],
      "execution_count": 4,
      "outputs": []
    },
    {
      "cell_type": "code",
      "metadata": {
        "id": "XpJhokjSPXQd"
      },
      "source": [
        "X /= 255\n",
        "target /= 255"
      ],
      "execution_count": 5,
      "outputs": []
    },
    {
      "cell_type": "code",
      "metadata": {
        "id": "4GLOct70PXwV"
      },
      "source": [
        "X = X.reshape(-1, 28,28,1)\n",
        "target = target.reshape(-1, 28,28,1)"
      ],
      "execution_count": 7,
      "outputs": []
    },
    {
      "cell_type": "code",
      "metadata": {
        "id": "hODg4MsERThz"
      },
      "source": [
        "np.random.seed(0)"
      ],
      "execution_count": 8,
      "outputs": []
    },
    {
      "cell_type": "code",
      "metadata": {
        "id": "UGlCtQwV1A6W"
      },
      "source": [
        "X_train, X_val, Y_train, Y_val = train_test_split(X, \n",
        "                                                  y, \n",
        "                                                  test_size = 0.2, \n",
        "                                                  random_state=100)"
      ],
      "execution_count": 9,
      "outputs": []
    },
    {
      "cell_type": "code",
      "metadata": {
        "id": "LBy6OHATRT1j"
      },
      "source": [
        "earlyStopping = EarlyStopping(patience = 10, verbose=1, monitor = 'val_acc', mode = 'max')"
      ],
      "execution_count": 10,
      "outputs": []
    },
    {
      "cell_type": "code",
      "metadata": {
        "colab": {
          "base_uri": "https://localhost:8080/"
        },
        "id": "O58SX3IsRT7i",
        "outputId": "1b502b52-73c1-4437-b994-db1ef1c62676"
      },
      "source": [
        "model = Sequential()\n",
        "\n",
        "model.add(Conv2D(64,(3,3),activation='relu',input_shape=(28,28,1),padding='same'))\n",
        "model.add(BatchNormalization())\n",
        "model.add(Dropout(0.3))\n",
        "\n",
        "model.add(Conv2D(32,(3,3),activation='relu',padding='same'))\n",
        "model.add(BatchNormalization())\n",
        "model.add(MaxPooling2D((3,3)))\n",
        "model.add(Dropout(0.3))\n",
        "\n",
        "model.add(Conv2D(64,(5,5),activation='relu',padding='same')) \n",
        "model.add(BatchNormalization())\n",
        "model.add(MaxPooling2D((3,3)))\n",
        "model.add(Dropout(0.3))\n",
        "model.add(Flatten())\n",
        "\n",
        "model.add(Dense(128,activation='relu'))\n",
        "model.add(BatchNormalization())\n",
        "model.add(Dropout(0.3))\n",
        "model.add(Dense(64,activation='relu'))\n",
        "model.add(BatchNormalization())\n",
        "model.add(Dropout(0.3))\n",
        "model.add(Dense(10,activation='softmax'))\n",
        "\n",
        "model.compile(loss='sparse_categorical_crossentropy', optimizer = 'adam', metrics=['acc'])\n",
        "\n",
        "history = model.fit(X_train, Y_train, epochs = 200, batch_size = 50,\n",
        "                      validation_data = (X_val, Y_val), callbacks = [earlyStopping])\n",
        "  \n",
        "pred = model.predict(target)"
      ],
      "execution_count": 11,
      "outputs": [
        {
          "output_type": "stream",
          "text": [
            "Epoch 1/200\n",
            "960/960 [==============================] - 43s 14ms/step - loss: 0.7426 - acc: 0.7323 - val_loss: 0.3732 - val_acc: 0.8624\n",
            "Epoch 2/200\n",
            "960/960 [==============================] - 13s 14ms/step - loss: 0.4447 - acc: 0.8404 - val_loss: 0.3183 - val_acc: 0.8862\n",
            "Epoch 3/200\n",
            "960/960 [==============================] - 14s 14ms/step - loss: 0.3775 - acc: 0.8660 - val_loss: 0.2813 - val_acc: 0.8977\n",
            "Epoch 4/200\n",
            "960/960 [==============================] - 14s 14ms/step - loss: 0.3438 - acc: 0.8778 - val_loss: 0.2688 - val_acc: 0.9023\n",
            "Epoch 5/200\n",
            "960/960 [==============================] - 14s 14ms/step - loss: 0.3235 - acc: 0.8837 - val_loss: 0.2488 - val_acc: 0.9090\n",
            "Epoch 6/200\n",
            "960/960 [==============================] - 14s 14ms/step - loss: 0.3064 - acc: 0.8904 - val_loss: 0.2383 - val_acc: 0.9126\n",
            "Epoch 7/200\n",
            "960/960 [==============================] - 14s 14ms/step - loss: 0.2921 - acc: 0.8944 - val_loss: 0.2252 - val_acc: 0.9185\n",
            "Epoch 8/200\n",
            "960/960 [==============================] - 14s 15ms/step - loss: 0.2823 - acc: 0.8989 - val_loss: 0.2273 - val_acc: 0.9194\n",
            "Epoch 9/200\n",
            "960/960 [==============================] - 14s 14ms/step - loss: 0.2669 - acc: 0.9040 - val_loss: 0.2345 - val_acc: 0.9133\n",
            "Epoch 10/200\n",
            "960/960 [==============================] - 14s 15ms/step - loss: 0.2637 - acc: 0.9053 - val_loss: 0.2174 - val_acc: 0.9231\n",
            "Epoch 11/200\n",
            "960/960 [==============================] - 13s 14ms/step - loss: 0.2559 - acc: 0.9087 - val_loss: 0.2197 - val_acc: 0.9198\n",
            "Epoch 12/200\n",
            "960/960 [==============================] - 14s 14ms/step - loss: 0.2495 - acc: 0.9107 - val_loss: 0.2083 - val_acc: 0.9237\n",
            "Epoch 13/200\n",
            "960/960 [==============================] - 14s 14ms/step - loss: 0.2460 - acc: 0.9112 - val_loss: 0.2445 - val_acc: 0.9121\n",
            "Epoch 14/200\n",
            "960/960 [==============================] - 14s 14ms/step - loss: 0.2405 - acc: 0.9128 - val_loss: 0.2052 - val_acc: 0.9253\n",
            "Epoch 15/200\n",
            "960/960 [==============================] - 14s 15ms/step - loss: 0.2322 - acc: 0.9168 - val_loss: 0.2006 - val_acc: 0.9259\n",
            "Epoch 16/200\n",
            "960/960 [==============================] - 14s 14ms/step - loss: 0.2330 - acc: 0.9166 - val_loss: 0.1954 - val_acc: 0.9296\n",
            "Epoch 17/200\n",
            "960/960 [==============================] - 14s 14ms/step - loss: 0.2274 - acc: 0.9187 - val_loss: 0.1984 - val_acc: 0.9293\n",
            "Epoch 18/200\n",
            "960/960 [==============================] - 13s 14ms/step - loss: 0.2221 - acc: 0.9212 - val_loss: 0.2089 - val_acc: 0.9232\n",
            "Epoch 19/200\n",
            "960/960 [==============================] - 14s 15ms/step - loss: 0.2189 - acc: 0.9214 - val_loss: 0.1962 - val_acc: 0.9300\n",
            "Epoch 20/200\n",
            "960/960 [==============================] - 13s 14ms/step - loss: 0.2143 - acc: 0.9215 - val_loss: 0.2004 - val_acc: 0.9300\n",
            "Epoch 21/200\n",
            "960/960 [==============================] - 14s 15ms/step - loss: 0.2104 - acc: 0.9233 - val_loss: 0.1919 - val_acc: 0.9312\n",
            "Epoch 22/200\n",
            "960/960 [==============================] - 13s 14ms/step - loss: 0.2103 - acc: 0.9233 - val_loss: 0.1956 - val_acc: 0.9317\n",
            "Epoch 23/200\n",
            "960/960 [==============================] - 14s 15ms/step - loss: 0.2050 - acc: 0.9273 - val_loss: 0.2054 - val_acc: 0.9276\n",
            "Epoch 24/200\n",
            "960/960 [==============================] - 14s 14ms/step - loss: 0.2057 - acc: 0.9261 - val_loss: 0.1893 - val_acc: 0.9331\n",
            "Epoch 25/200\n",
            "960/960 [==============================] - 14s 14ms/step - loss: 0.2036 - acc: 0.9269 - val_loss: 0.1884 - val_acc: 0.9333\n",
            "Epoch 26/200\n",
            "960/960 [==============================] - 14s 14ms/step - loss: 0.2007 - acc: 0.9283 - val_loss: 0.1897 - val_acc: 0.9344\n",
            "Epoch 27/200\n",
            "960/960 [==============================] - 14s 15ms/step - loss: 0.1997 - acc: 0.9277 - val_loss: 0.1878 - val_acc: 0.9338\n",
            "Epoch 28/200\n",
            "960/960 [==============================] - 13s 14ms/step - loss: 0.1959 - acc: 0.9301 - val_loss: 0.1899 - val_acc: 0.9350\n",
            "Epoch 29/200\n",
            "960/960 [==============================] - 14s 14ms/step - loss: 0.1940 - acc: 0.9292 - val_loss: 0.1866 - val_acc: 0.9350\n",
            "Epoch 30/200\n",
            "960/960 [==============================] - 14s 14ms/step - loss: 0.1931 - acc: 0.9292 - val_loss: 0.1939 - val_acc: 0.9321\n",
            "Epoch 31/200\n",
            "960/960 [==============================] - 13s 14ms/step - loss: 0.1877 - acc: 0.9333 - val_loss: 0.1866 - val_acc: 0.9351\n",
            "Epoch 32/200\n",
            "960/960 [==============================] - 13s 14ms/step - loss: 0.1907 - acc: 0.9315 - val_loss: 0.1989 - val_acc: 0.9293\n",
            "Epoch 33/200\n",
            "960/960 [==============================] - 13s 14ms/step - loss: 0.1852 - acc: 0.9331 - val_loss: 0.1857 - val_acc: 0.9343\n",
            "Epoch 34/200\n",
            "960/960 [==============================] - 13s 14ms/step - loss: 0.1833 - acc: 0.9333 - val_loss: 0.1835 - val_acc: 0.9377\n",
            "Epoch 35/200\n",
            "960/960 [==============================] - 14s 14ms/step - loss: 0.1811 - acc: 0.9349 - val_loss: 0.1880 - val_acc: 0.9344\n",
            "Epoch 36/200\n",
            "960/960 [==============================] - 14s 14ms/step - loss: 0.1829 - acc: 0.9342 - val_loss: 0.1777 - val_acc: 0.9391\n",
            "Epoch 37/200\n",
            "960/960 [==============================] - 14s 15ms/step - loss: 0.1820 - acc: 0.9343 - val_loss: 0.1768 - val_acc: 0.9378\n",
            "Epoch 38/200\n",
            "960/960 [==============================] - 14s 15ms/step - loss: 0.1813 - acc: 0.9352 - val_loss: 0.1881 - val_acc: 0.9362\n",
            "Epoch 39/200\n",
            "960/960 [==============================] - 14s 15ms/step - loss: 0.1754 - acc: 0.9369 - val_loss: 0.2077 - val_acc: 0.9298\n",
            "Epoch 40/200\n",
            "960/960 [==============================] - 14s 15ms/step - loss: 0.1745 - acc: 0.9369 - val_loss: 0.1914 - val_acc: 0.9348\n",
            "Epoch 41/200\n",
            "960/960 [==============================] - 14s 15ms/step - loss: 0.1797 - acc: 0.9357 - val_loss: 0.1875 - val_acc: 0.9374\n",
            "Epoch 42/200\n",
            "960/960 [==============================] - 14s 15ms/step - loss: 0.1742 - acc: 0.9367 - val_loss: 0.1790 - val_acc: 0.9393\n",
            "Epoch 43/200\n",
            "960/960 [==============================] - 14s 15ms/step - loss: 0.1710 - acc: 0.9371 - val_loss: 0.1860 - val_acc: 0.9373\n",
            "Epoch 44/200\n",
            "960/960 [==============================] - 14s 15ms/step - loss: 0.1726 - acc: 0.9383 - val_loss: 0.1836 - val_acc: 0.9371\n",
            "Epoch 45/200\n",
            "960/960 [==============================] - 14s 15ms/step - loss: 0.1707 - acc: 0.9379 - val_loss: 0.1772 - val_acc: 0.9402\n",
            "Epoch 46/200\n",
            "960/960 [==============================] - 14s 14ms/step - loss: 0.1730 - acc: 0.9378 - val_loss: 0.1801 - val_acc: 0.9397\n",
            "Epoch 47/200\n",
            "960/960 [==============================] - 14s 15ms/step - loss: 0.1720 - acc: 0.9393 - val_loss: 0.1932 - val_acc: 0.9338\n",
            "Epoch 48/200\n",
            "960/960 [==============================] - 14s 15ms/step - loss: 0.1712 - acc: 0.9386 - val_loss: 0.1726 - val_acc: 0.9428\n",
            "Epoch 49/200\n",
            "960/960 [==============================] - 13s 14ms/step - loss: 0.1662 - acc: 0.9404 - val_loss: 0.1757 - val_acc: 0.9395\n",
            "Epoch 50/200\n",
            "960/960 [==============================] - 14s 14ms/step - loss: 0.1658 - acc: 0.9389 - val_loss: 0.1797 - val_acc: 0.9407\n",
            "Epoch 51/200\n",
            "960/960 [==============================] - 14s 14ms/step - loss: 0.1632 - acc: 0.9417 - val_loss: 0.1844 - val_acc: 0.9378\n",
            "Epoch 52/200\n",
            "960/960 [==============================] - 14s 15ms/step - loss: 0.1669 - acc: 0.9391 - val_loss: 0.1779 - val_acc: 0.9392\n",
            "Epoch 53/200\n",
            "960/960 [==============================] - 14s 15ms/step - loss: 0.1643 - acc: 0.9412 - val_loss: 0.1801 - val_acc: 0.9381\n",
            "Epoch 54/200\n",
            "960/960 [==============================] - 14s 15ms/step - loss: 0.1623 - acc: 0.9408 - val_loss: 0.1809 - val_acc: 0.9401\n",
            "Epoch 55/200\n",
            "960/960 [==============================] - 14s 14ms/step - loss: 0.1625 - acc: 0.9419 - val_loss: 0.1878 - val_acc: 0.9377\n",
            "Epoch 56/200\n",
            "960/960 [==============================] - 14s 14ms/step - loss: 0.1610 - acc: 0.9421 - val_loss: 0.1801 - val_acc: 0.9378\n",
            "Epoch 57/200\n",
            "960/960 [==============================] - 14s 14ms/step - loss: 0.1612 - acc: 0.9421 - val_loss: 0.1820 - val_acc: 0.9390\n",
            "Epoch 58/200\n",
            "960/960 [==============================] - 14s 14ms/step - loss: 0.1618 - acc: 0.9418 - val_loss: 0.1811 - val_acc: 0.9409\n",
            "Epoch 00058: early stopping\n"
          ],
          "name": "stdout"
        }
      ]
    },
    {
      "cell_type": "markdown",
      "metadata": {
        "id": "vcU7gObtp1AX"
      },
      "source": [
        ""
      ]
    },
    {
      "cell_type": "code",
      "metadata": {
        "colab": {
          "base_uri": "https://localhost:8080/",
          "height": 1000
        },
        "id": "KL2iVorEybcR",
        "outputId": "1c71256c-1686-4457-85db-04a9021bdb83"
      },
      "source": [
        "#모델 시각화\n",
        "from IPython.display import SVG\n",
        "from keras.utils.vis_utils import model_to_dot\n",
        "%matplotlib inline\n",
        "\n",
        "SVG(model_to_dot(model, show_shapes=True).create(prog='dot', format='svg'))"
      ],
      "execution_count": 12,
      "outputs": [
        {
          "output_type": "execute_result",
          "data": {
            "text/plain": [
              "<IPython.core.display.SVG object>"
            ],
            "image/svg+xml": "<svg height=\"2176pt\" viewBox=\"0.00 0.00 462.00 1632.00\" width=\"616pt\" xmlns=\"http://www.w3.org/2000/svg\" xmlns:xlink=\"http://www.w3.org/1999/xlink\">\n<g class=\"graph\" id=\"graph0\" transform=\"scale(1.3333 1.3333) rotate(0) translate(4 1628)\">\n<title>G</title>\n<polygon fill=\"#ffffff\" points=\"-4,4 -4,-1628 458,-1628 458,4 -4,4\" stroke=\"transparent\"/>\n<!-- 139721429227728 -->\n<g class=\"node\" id=\"node1\">\n<title>139721429227728</title>\n<polygon fill=\"none\" points=\"50.5,-1577.5 50.5,-1623.5 403.5,-1623.5 403.5,-1577.5 50.5,-1577.5\" stroke=\"#000000\"/>\n<text fill=\"#000000\" font-family=\"Times,serif\" font-size=\"14.00\" text-anchor=\"middle\" x=\"135\" y=\"-1596.8\">conv2d_input: InputLayer</text>\n<polyline fill=\"none\" points=\"219.5,-1577.5 219.5,-1623.5 \" stroke=\"#000000\"/>\n<text fill=\"#000000\" font-family=\"Times,serif\" font-size=\"14.00\" text-anchor=\"middle\" x=\"248.5\" y=\"-1608.3\">input:</text>\n<polyline fill=\"none\" points=\"219.5,-1600.5 277.5,-1600.5 \" stroke=\"#000000\"/>\n<text fill=\"#000000\" font-family=\"Times,serif\" font-size=\"14.00\" text-anchor=\"middle\" x=\"248.5\" y=\"-1585.3\">output:</text>\n<polyline fill=\"none\" points=\"277.5,-1577.5 277.5,-1623.5 \" stroke=\"#000000\"/>\n<text fill=\"#000000\" font-family=\"Times,serif\" font-size=\"14.00\" text-anchor=\"middle\" x=\"340.5\" y=\"-1608.3\">[(None, 28, 28, 1)]</text>\n<polyline fill=\"none\" points=\"277.5,-1600.5 403.5,-1600.5 \" stroke=\"#000000\"/>\n<text fill=\"#000000\" font-family=\"Times,serif\" font-size=\"14.00\" text-anchor=\"middle\" x=\"340.5\" y=\"-1585.3\">[(None, 28, 28, 1)]</text>\n</g>\n<!-- 139721429306192 -->\n<g class=\"node\" id=\"node2\">\n<title>139721429306192</title>\n<polygon fill=\"none\" points=\"76.5,-1494.5 76.5,-1540.5 377.5,-1540.5 377.5,-1494.5 76.5,-1494.5\" stroke=\"#000000\"/>\n<text fill=\"#000000\" font-family=\"Times,serif\" font-size=\"14.00\" text-anchor=\"middle\" x=\"135.5\" y=\"-1513.8\">conv2d: Conv2D</text>\n<polyline fill=\"none\" points=\"194.5,-1494.5 194.5,-1540.5 \" stroke=\"#000000\"/>\n<text fill=\"#000000\" font-family=\"Times,serif\" font-size=\"14.00\" text-anchor=\"middle\" x=\"223.5\" y=\"-1525.3\">input:</text>\n<polyline fill=\"none\" points=\"194.5,-1517.5 252.5,-1517.5 \" stroke=\"#000000\"/>\n<text fill=\"#000000\" font-family=\"Times,serif\" font-size=\"14.00\" text-anchor=\"middle\" x=\"223.5\" y=\"-1502.3\">output:</text>\n<polyline fill=\"none\" points=\"252.5,-1494.5 252.5,-1540.5 \" stroke=\"#000000\"/>\n<text fill=\"#000000\" font-family=\"Times,serif\" font-size=\"14.00\" text-anchor=\"middle\" x=\"315\" y=\"-1525.3\">(None, 28, 28, 1)</text>\n<polyline fill=\"none\" points=\"252.5,-1517.5 377.5,-1517.5 \" stroke=\"#000000\"/>\n<text fill=\"#000000\" font-family=\"Times,serif\" font-size=\"14.00\" text-anchor=\"middle\" x=\"315\" y=\"-1502.3\">(None, 28, 28, 64)</text>\n</g>\n<!-- 139721429227728&#45;&gt;139721429306192 -->\n<g class=\"edge\" id=\"edge1\">\n<title>139721429227728-&gt;139721429306192</title>\n<path d=\"M227,-1577.3799C227,-1569.1745 227,-1559.7679 227,-1550.8786\" fill=\"none\" stroke=\"#000000\"/>\n<polygon fill=\"#000000\" points=\"230.5001,-1550.784 227,-1540.784 223.5001,-1550.784 230.5001,-1550.784\" stroke=\"#000000\"/>\n</g>\n<!-- 139721429305936 -->\n<g class=\"node\" id=\"node3\">\n<title>139721429305936</title>\n<polygon fill=\"none\" points=\"7.5,-1411.5 7.5,-1457.5 446.5,-1457.5 446.5,-1411.5 7.5,-1411.5\" stroke=\"#000000\"/>\n<text fill=\"#000000\" font-family=\"Times,serif\" font-size=\"14.00\" text-anchor=\"middle\" x=\"135.5\" y=\"-1430.8\">batch_normalization: BatchNormalization</text>\n<polyline fill=\"none\" points=\"263.5,-1411.5 263.5,-1457.5 \" stroke=\"#000000\"/>\n<text fill=\"#000000\" font-family=\"Times,serif\" font-size=\"14.00\" text-anchor=\"middle\" x=\"292.5\" y=\"-1442.3\">input:</text>\n<polyline fill=\"none\" points=\"263.5,-1434.5 321.5,-1434.5 \" stroke=\"#000000\"/>\n<text fill=\"#000000\" font-family=\"Times,serif\" font-size=\"14.00\" text-anchor=\"middle\" x=\"292.5\" y=\"-1419.3\">output:</text>\n<polyline fill=\"none\" points=\"321.5,-1411.5 321.5,-1457.5 \" stroke=\"#000000\"/>\n<text fill=\"#000000\" font-family=\"Times,serif\" font-size=\"14.00\" text-anchor=\"middle\" x=\"384\" y=\"-1442.3\">(None, 28, 28, 64)</text>\n<polyline fill=\"none\" points=\"321.5,-1434.5 446.5,-1434.5 \" stroke=\"#000000\"/>\n<text fill=\"#000000\" font-family=\"Times,serif\" font-size=\"14.00\" text-anchor=\"middle\" x=\"384\" y=\"-1419.3\">(None, 28, 28, 64)</text>\n</g>\n<!-- 139721429306192&#45;&gt;139721429305936 -->\n<g class=\"edge\" id=\"edge2\">\n<title>139721429306192-&gt;139721429305936</title>\n<path d=\"M227,-1494.3799C227,-1486.1745 227,-1476.7679 227,-1467.8786\" fill=\"none\" stroke=\"#000000\"/>\n<polygon fill=\"#000000\" points=\"230.5001,-1467.784 227,-1457.784 223.5001,-1467.784 230.5001,-1467.784\" stroke=\"#000000\"/>\n</g>\n<!-- 139721431559504 -->\n<g class=\"node\" id=\"node4\">\n<title>139721431559504</title>\n<polygon fill=\"none\" points=\"76,-1328.5 76,-1374.5 378,-1374.5 378,-1328.5 76,-1328.5\" stroke=\"#000000\"/>\n<text fill=\"#000000\" font-family=\"Times,serif\" font-size=\"14.00\" text-anchor=\"middle\" x=\"135.5\" y=\"-1347.8\">dropout: Dropout</text>\n<polyline fill=\"none\" points=\"195,-1328.5 195,-1374.5 \" stroke=\"#000000\"/>\n<text fill=\"#000000\" font-family=\"Times,serif\" font-size=\"14.00\" text-anchor=\"middle\" x=\"224\" y=\"-1359.3\">input:</text>\n<polyline fill=\"none\" points=\"195,-1351.5 253,-1351.5 \" stroke=\"#000000\"/>\n<text fill=\"#000000\" font-family=\"Times,serif\" font-size=\"14.00\" text-anchor=\"middle\" x=\"224\" y=\"-1336.3\">output:</text>\n<polyline fill=\"none\" points=\"253,-1328.5 253,-1374.5 \" stroke=\"#000000\"/>\n<text fill=\"#000000\" font-family=\"Times,serif\" font-size=\"14.00\" text-anchor=\"middle\" x=\"315.5\" y=\"-1359.3\">(None, 28, 28, 64)</text>\n<polyline fill=\"none\" points=\"253,-1351.5 378,-1351.5 \" stroke=\"#000000\"/>\n<text fill=\"#000000\" font-family=\"Times,serif\" font-size=\"14.00\" text-anchor=\"middle\" x=\"315.5\" y=\"-1336.3\">(None, 28, 28, 64)</text>\n</g>\n<!-- 139721429305936&#45;&gt;139721431559504 -->\n<g class=\"edge\" id=\"edge3\">\n<title>139721429305936-&gt;139721431559504</title>\n<path d=\"M227,-1411.3799C227,-1403.1745 227,-1393.7679 227,-1384.8786\" fill=\"none\" stroke=\"#000000\"/>\n<polygon fill=\"#000000\" points=\"230.5001,-1384.784 227,-1374.784 223.5001,-1384.784 230.5001,-1384.784\" stroke=\"#000000\"/>\n</g>\n<!-- 139721431559888 -->\n<g class=\"node\" id=\"node5\">\n<title>139721431559888</title>\n<polygon fill=\"none\" points=\"69,-1245.5 69,-1291.5 385,-1291.5 385,-1245.5 69,-1245.5\" stroke=\"#000000\"/>\n<text fill=\"#000000\" font-family=\"Times,serif\" font-size=\"14.00\" text-anchor=\"middle\" x=\"135.5\" y=\"-1264.8\">conv2d_1: Conv2D</text>\n<polyline fill=\"none\" points=\"202,-1245.5 202,-1291.5 \" stroke=\"#000000\"/>\n<text fill=\"#000000\" font-family=\"Times,serif\" font-size=\"14.00\" text-anchor=\"middle\" x=\"231\" y=\"-1276.3\">input:</text>\n<polyline fill=\"none\" points=\"202,-1268.5 260,-1268.5 \" stroke=\"#000000\"/>\n<text fill=\"#000000\" font-family=\"Times,serif\" font-size=\"14.00\" text-anchor=\"middle\" x=\"231\" y=\"-1253.3\">output:</text>\n<polyline fill=\"none\" points=\"260,-1245.5 260,-1291.5 \" stroke=\"#000000\"/>\n<text fill=\"#000000\" font-family=\"Times,serif\" font-size=\"14.00\" text-anchor=\"middle\" x=\"322.5\" y=\"-1276.3\">(None, 28, 28, 64)</text>\n<polyline fill=\"none\" points=\"260,-1268.5 385,-1268.5 \" stroke=\"#000000\"/>\n<text fill=\"#000000\" font-family=\"Times,serif\" font-size=\"14.00\" text-anchor=\"middle\" x=\"322.5\" y=\"-1253.3\">(None, 28, 28, 32)</text>\n</g>\n<!-- 139721431559504&#45;&gt;139721431559888 -->\n<g class=\"edge\" id=\"edge4\">\n<title>139721431559504-&gt;139721431559888</title>\n<path d=\"M227,-1328.3799C227,-1320.1745 227,-1310.7679 227,-1301.8786\" fill=\"none\" stroke=\"#000000\"/>\n<polygon fill=\"#000000\" points=\"230.5001,-1301.784 227,-1291.784 223.5001,-1301.784 230.5001,-1301.784\" stroke=\"#000000\"/>\n</g>\n<!-- 139721429657296 -->\n<g class=\"node\" id=\"node6\">\n<title>139721429657296</title>\n<polygon fill=\"none\" points=\"0,-1162.5 0,-1208.5 454,-1208.5 454,-1162.5 0,-1162.5\" stroke=\"#000000\"/>\n<text fill=\"#000000\" font-family=\"Times,serif\" font-size=\"14.00\" text-anchor=\"middle\" x=\"135.5\" y=\"-1181.8\">batch_normalization_1: BatchNormalization</text>\n<polyline fill=\"none\" points=\"271,-1162.5 271,-1208.5 \" stroke=\"#000000\"/>\n<text fill=\"#000000\" font-family=\"Times,serif\" font-size=\"14.00\" text-anchor=\"middle\" x=\"300\" y=\"-1193.3\">input:</text>\n<polyline fill=\"none\" points=\"271,-1185.5 329,-1185.5 \" stroke=\"#000000\"/>\n<text fill=\"#000000\" font-family=\"Times,serif\" font-size=\"14.00\" text-anchor=\"middle\" x=\"300\" y=\"-1170.3\">output:</text>\n<polyline fill=\"none\" points=\"329,-1162.5 329,-1208.5 \" stroke=\"#000000\"/>\n<text fill=\"#000000\" font-family=\"Times,serif\" font-size=\"14.00\" text-anchor=\"middle\" x=\"391.5\" y=\"-1193.3\">(None, 28, 28, 32)</text>\n<polyline fill=\"none\" points=\"329,-1185.5 454,-1185.5 \" stroke=\"#000000\"/>\n<text fill=\"#000000\" font-family=\"Times,serif\" font-size=\"14.00\" text-anchor=\"middle\" x=\"391.5\" y=\"-1170.3\">(None, 28, 28, 32)</text>\n</g>\n<!-- 139721431559888&#45;&gt;139721429657296 -->\n<g class=\"edge\" id=\"edge5\">\n<title>139721431559888-&gt;139721429657296</title>\n<path d=\"M227,-1245.3799C227,-1237.1745 227,-1227.7679 227,-1218.8786\" fill=\"none\" stroke=\"#000000\"/>\n<polygon fill=\"#000000\" points=\"230.5001,-1218.784 227,-1208.784 223.5001,-1218.784 230.5001,-1218.784\" stroke=\"#000000\"/>\n</g>\n<!-- 139721429306064 -->\n<g class=\"node\" id=\"node7\">\n<title>139721429306064</title>\n<polygon fill=\"none\" points=\"32.5,-1079.5 32.5,-1125.5 421.5,-1125.5 421.5,-1079.5 32.5,-1079.5\" stroke=\"#000000\"/>\n<text fill=\"#000000\" font-family=\"Times,serif\" font-size=\"14.00\" text-anchor=\"middle\" x=\"135.5\" y=\"-1098.8\">max_pooling2d: MaxPooling2D</text>\n<polyline fill=\"none\" points=\"238.5,-1079.5 238.5,-1125.5 \" stroke=\"#000000\"/>\n<text fill=\"#000000\" font-family=\"Times,serif\" font-size=\"14.00\" text-anchor=\"middle\" x=\"267.5\" y=\"-1110.3\">input:</text>\n<polyline fill=\"none\" points=\"238.5,-1102.5 296.5,-1102.5 \" stroke=\"#000000\"/>\n<text fill=\"#000000\" font-family=\"Times,serif\" font-size=\"14.00\" text-anchor=\"middle\" x=\"267.5\" y=\"-1087.3\">output:</text>\n<polyline fill=\"none\" points=\"296.5,-1079.5 296.5,-1125.5 \" stroke=\"#000000\"/>\n<text fill=\"#000000\" font-family=\"Times,serif\" font-size=\"14.00\" text-anchor=\"middle\" x=\"359\" y=\"-1110.3\">(None, 28, 28, 32)</text>\n<polyline fill=\"none\" points=\"296.5,-1102.5 421.5,-1102.5 \" stroke=\"#000000\"/>\n<text fill=\"#000000\" font-family=\"Times,serif\" font-size=\"14.00\" text-anchor=\"middle\" x=\"359\" y=\"-1087.3\">(None, 9, 9, 32)</text>\n</g>\n<!-- 139721429657296&#45;&gt;139721429306064 -->\n<g class=\"edge\" id=\"edge6\">\n<title>139721429657296-&gt;139721429306064</title>\n<path d=\"M227,-1162.3799C227,-1154.1745 227,-1144.7679 227,-1135.8786\" fill=\"none\" stroke=\"#000000\"/>\n<polygon fill=\"#000000\" points=\"230.5001,-1135.784 227,-1125.784 223.5001,-1135.784 230.5001,-1135.784\" stroke=\"#000000\"/>\n</g>\n<!-- 139721431559632 -->\n<g class=\"node\" id=\"node8\">\n<title>139721431559632</title>\n<polygon fill=\"none\" points=\"76,-996.5 76,-1042.5 378,-1042.5 378,-996.5 76,-996.5\" stroke=\"#000000\"/>\n<text fill=\"#000000\" font-family=\"Times,serif\" font-size=\"14.00\" text-anchor=\"middle\" x=\"143\" y=\"-1015.8\">dropout_1: Dropout</text>\n<polyline fill=\"none\" points=\"210,-996.5 210,-1042.5 \" stroke=\"#000000\"/>\n<text fill=\"#000000\" font-family=\"Times,serif\" font-size=\"14.00\" text-anchor=\"middle\" x=\"239\" y=\"-1027.3\">input:</text>\n<polyline fill=\"none\" points=\"210,-1019.5 268,-1019.5 \" stroke=\"#000000\"/>\n<text fill=\"#000000\" font-family=\"Times,serif\" font-size=\"14.00\" text-anchor=\"middle\" x=\"239\" y=\"-1004.3\">output:</text>\n<polyline fill=\"none\" points=\"268,-996.5 268,-1042.5 \" stroke=\"#000000\"/>\n<text fill=\"#000000\" font-family=\"Times,serif\" font-size=\"14.00\" text-anchor=\"middle\" x=\"323\" y=\"-1027.3\">(None, 9, 9, 32)</text>\n<polyline fill=\"none\" points=\"268,-1019.5 378,-1019.5 \" stroke=\"#000000\"/>\n<text fill=\"#000000\" font-family=\"Times,serif\" font-size=\"14.00\" text-anchor=\"middle\" x=\"323\" y=\"-1004.3\">(None, 9, 9, 32)</text>\n</g>\n<!-- 139721429306064&#45;&gt;139721431559632 -->\n<g class=\"edge\" id=\"edge7\">\n<title>139721429306064-&gt;139721431559632</title>\n<path d=\"M227,-1079.3799C227,-1071.1745 227,-1061.7679 227,-1052.8786\" fill=\"none\" stroke=\"#000000\"/>\n<polygon fill=\"#000000\" points=\"230.5001,-1052.784 227,-1042.784 223.5001,-1052.784 230.5001,-1052.784\" stroke=\"#000000\"/>\n</g>\n<!-- 139721431917712 -->\n<g class=\"node\" id=\"node9\">\n<title>139721431917712</title>\n<polygon fill=\"none\" points=\"76.5,-913.5 76.5,-959.5 377.5,-959.5 377.5,-913.5 76.5,-913.5\" stroke=\"#000000\"/>\n<text fill=\"#000000\" font-family=\"Times,serif\" font-size=\"14.00\" text-anchor=\"middle\" x=\"143\" y=\"-932.8\">conv2d_2: Conv2D</text>\n<polyline fill=\"none\" points=\"209.5,-913.5 209.5,-959.5 \" stroke=\"#000000\"/>\n<text fill=\"#000000\" font-family=\"Times,serif\" font-size=\"14.00\" text-anchor=\"middle\" x=\"238.5\" y=\"-944.3\">input:</text>\n<polyline fill=\"none\" points=\"209.5,-936.5 267.5,-936.5 \" stroke=\"#000000\"/>\n<text fill=\"#000000\" font-family=\"Times,serif\" font-size=\"14.00\" text-anchor=\"middle\" x=\"238.5\" y=\"-921.3\">output:</text>\n<polyline fill=\"none\" points=\"267.5,-913.5 267.5,-959.5 \" stroke=\"#000000\"/>\n<text fill=\"#000000\" font-family=\"Times,serif\" font-size=\"14.00\" text-anchor=\"middle\" x=\"322.5\" y=\"-944.3\">(None, 9, 9, 32)</text>\n<polyline fill=\"none\" points=\"267.5,-936.5 377.5,-936.5 \" stroke=\"#000000\"/>\n<text fill=\"#000000\" font-family=\"Times,serif\" font-size=\"14.00\" text-anchor=\"middle\" x=\"322.5\" y=\"-921.3\">(None, 9, 9, 64)</text>\n</g>\n<!-- 139721431559632&#45;&gt;139721431917712 -->\n<g class=\"edge\" id=\"edge8\">\n<title>139721431559632-&gt;139721431917712</title>\n<path d=\"M227,-996.3799C227,-988.1745 227,-978.7679 227,-969.8786\" fill=\"none\" stroke=\"#000000\"/>\n<polygon fill=\"#000000\" points=\"230.5001,-969.784 227,-959.784 223.5001,-969.784 230.5001,-969.784\" stroke=\"#000000\"/>\n</g>\n<!-- 139721431889168 -->\n<g class=\"node\" id=\"node10\">\n<title>139721431889168</title>\n<polygon fill=\"none\" points=\"7.5,-830.5 7.5,-876.5 446.5,-876.5 446.5,-830.5 7.5,-830.5\" stroke=\"#000000\"/>\n<text fill=\"#000000\" font-family=\"Times,serif\" font-size=\"14.00\" text-anchor=\"middle\" x=\"143\" y=\"-849.8\">batch_normalization_2: BatchNormalization</text>\n<polyline fill=\"none\" points=\"278.5,-830.5 278.5,-876.5 \" stroke=\"#000000\"/>\n<text fill=\"#000000\" font-family=\"Times,serif\" font-size=\"14.00\" text-anchor=\"middle\" x=\"307.5\" y=\"-861.3\">input:</text>\n<polyline fill=\"none\" points=\"278.5,-853.5 336.5,-853.5 \" stroke=\"#000000\"/>\n<text fill=\"#000000\" font-family=\"Times,serif\" font-size=\"14.00\" text-anchor=\"middle\" x=\"307.5\" y=\"-838.3\">output:</text>\n<polyline fill=\"none\" points=\"336.5,-830.5 336.5,-876.5 \" stroke=\"#000000\"/>\n<text fill=\"#000000\" font-family=\"Times,serif\" font-size=\"14.00\" text-anchor=\"middle\" x=\"391.5\" y=\"-861.3\">(None, 9, 9, 64)</text>\n<polyline fill=\"none\" points=\"336.5,-853.5 446.5,-853.5 \" stroke=\"#000000\"/>\n<text fill=\"#000000\" font-family=\"Times,serif\" font-size=\"14.00\" text-anchor=\"middle\" x=\"391.5\" y=\"-838.3\">(None, 9, 9, 64)</text>\n</g>\n<!-- 139721431917712&#45;&gt;139721431889168 -->\n<g class=\"edge\" id=\"edge9\">\n<title>139721431917712-&gt;139721431889168</title>\n<path d=\"M227,-913.3799C227,-905.1745 227,-895.7679 227,-886.8786\" fill=\"none\" stroke=\"#000000\"/>\n<polygon fill=\"#000000\" points=\"230.5001,-886.784 227,-876.784 223.5001,-886.784 230.5001,-886.784\" stroke=\"#000000\"/>\n</g>\n<!-- 139721431888464 -->\n<g class=\"node\" id=\"node11\">\n<title>139721431888464</title>\n<polygon fill=\"none\" points=\"32.5,-747.5 32.5,-793.5 421.5,-793.5 421.5,-747.5 32.5,-747.5\" stroke=\"#000000\"/>\n<text fill=\"#000000\" font-family=\"Times,serif\" font-size=\"14.00\" text-anchor=\"middle\" x=\"143\" y=\"-766.8\">max_pooling2d_1: MaxPooling2D</text>\n<polyline fill=\"none\" points=\"253.5,-747.5 253.5,-793.5 \" stroke=\"#000000\"/>\n<text fill=\"#000000\" font-family=\"Times,serif\" font-size=\"14.00\" text-anchor=\"middle\" x=\"282.5\" y=\"-778.3\">input:</text>\n<polyline fill=\"none\" points=\"253.5,-770.5 311.5,-770.5 \" stroke=\"#000000\"/>\n<text fill=\"#000000\" font-family=\"Times,serif\" font-size=\"14.00\" text-anchor=\"middle\" x=\"282.5\" y=\"-755.3\">output:</text>\n<polyline fill=\"none\" points=\"311.5,-747.5 311.5,-793.5 \" stroke=\"#000000\"/>\n<text fill=\"#000000\" font-family=\"Times,serif\" font-size=\"14.00\" text-anchor=\"middle\" x=\"366.5\" y=\"-778.3\">(None, 9, 9, 64)</text>\n<polyline fill=\"none\" points=\"311.5,-770.5 421.5,-770.5 \" stroke=\"#000000\"/>\n<text fill=\"#000000\" font-family=\"Times,serif\" font-size=\"14.00\" text-anchor=\"middle\" x=\"366.5\" y=\"-755.3\">(None, 3, 3, 64)</text>\n</g>\n<!-- 139721431889168&#45;&gt;139721431888464 -->\n<g class=\"edge\" id=\"edge10\">\n<title>139721431889168-&gt;139721431888464</title>\n<path d=\"M227,-830.3799C227,-822.1745 227,-812.7679 227,-803.8786\" fill=\"none\" stroke=\"#000000\"/>\n<polygon fill=\"#000000\" points=\"230.5001,-803.784 227,-793.784 223.5001,-803.784 230.5001,-803.784\" stroke=\"#000000\"/>\n</g>\n<!-- 139721431801296 -->\n<g class=\"node\" id=\"node12\">\n<title>139721431801296</title>\n<polygon fill=\"none\" points=\"76,-664.5 76,-710.5 378,-710.5 378,-664.5 76,-664.5\" stroke=\"#000000\"/>\n<text fill=\"#000000\" font-family=\"Times,serif\" font-size=\"14.00\" text-anchor=\"middle\" x=\"143\" y=\"-683.8\">dropout_2: Dropout</text>\n<polyline fill=\"none\" points=\"210,-664.5 210,-710.5 \" stroke=\"#000000\"/>\n<text fill=\"#000000\" font-family=\"Times,serif\" font-size=\"14.00\" text-anchor=\"middle\" x=\"239\" y=\"-695.3\">input:</text>\n<polyline fill=\"none\" points=\"210,-687.5 268,-687.5 \" stroke=\"#000000\"/>\n<text fill=\"#000000\" font-family=\"Times,serif\" font-size=\"14.00\" text-anchor=\"middle\" x=\"239\" y=\"-672.3\">output:</text>\n<polyline fill=\"none\" points=\"268,-664.5 268,-710.5 \" stroke=\"#000000\"/>\n<text fill=\"#000000\" font-family=\"Times,serif\" font-size=\"14.00\" text-anchor=\"middle\" x=\"323\" y=\"-695.3\">(None, 3, 3, 64)</text>\n<polyline fill=\"none\" points=\"268,-687.5 378,-687.5 \" stroke=\"#000000\"/>\n<text fill=\"#000000\" font-family=\"Times,serif\" font-size=\"14.00\" text-anchor=\"middle\" x=\"323\" y=\"-672.3\">(None, 3, 3, 64)</text>\n</g>\n<!-- 139721431888464&#45;&gt;139721431801296 -->\n<g class=\"edge\" id=\"edge11\">\n<title>139721431888464-&gt;139721431801296</title>\n<path d=\"M227,-747.3799C227,-739.1745 227,-729.7679 227,-720.8786\" fill=\"none\" stroke=\"#000000\"/>\n<polygon fill=\"#000000\" points=\"230.5001,-720.784 227,-710.784 223.5001,-720.784 230.5001,-720.784\" stroke=\"#000000\"/>\n</g>\n<!-- 139721431865552 -->\n<g class=\"node\" id=\"node13\">\n<title>139721431865552</title>\n<polygon fill=\"none\" points=\"94,-581.5 94,-627.5 360,-627.5 360,-581.5 94,-581.5\" stroke=\"#000000\"/>\n<text fill=\"#000000\" font-family=\"Times,serif\" font-size=\"14.00\" text-anchor=\"middle\" x=\"143\" y=\"-600.8\">flatten: Flatten</text>\n<polyline fill=\"none\" points=\"192,-581.5 192,-627.5 \" stroke=\"#000000\"/>\n<text fill=\"#000000\" font-family=\"Times,serif\" font-size=\"14.00\" text-anchor=\"middle\" x=\"221\" y=\"-612.3\">input:</text>\n<polyline fill=\"none\" points=\"192,-604.5 250,-604.5 \" stroke=\"#000000\"/>\n<text fill=\"#000000\" font-family=\"Times,serif\" font-size=\"14.00\" text-anchor=\"middle\" x=\"221\" y=\"-589.3\">output:</text>\n<polyline fill=\"none\" points=\"250,-581.5 250,-627.5 \" stroke=\"#000000\"/>\n<text fill=\"#000000\" font-family=\"Times,serif\" font-size=\"14.00\" text-anchor=\"middle\" x=\"305\" y=\"-612.3\">(None, 3, 3, 64)</text>\n<polyline fill=\"none\" points=\"250,-604.5 360,-604.5 \" stroke=\"#000000\"/>\n<text fill=\"#000000\" font-family=\"Times,serif\" font-size=\"14.00\" text-anchor=\"middle\" x=\"305\" y=\"-589.3\">(None, 576)</text>\n</g>\n<!-- 139721431801296&#45;&gt;139721431865552 -->\n<g class=\"edge\" id=\"edge12\">\n<title>139721431801296-&gt;139721431865552</title>\n<path d=\"M227,-664.3799C227,-656.1745 227,-646.7679 227,-637.8786\" fill=\"none\" stroke=\"#000000\"/>\n<polygon fill=\"#000000\" points=\"230.5001,-637.784 227,-627.784 223.5001,-637.784 230.5001,-637.784\" stroke=\"#000000\"/>\n</g>\n<!-- 139721431993040 -->\n<g class=\"node\" id=\"node14\">\n<title>139721431993040</title>\n<polygon fill=\"none\" points=\"108.5,-498.5 108.5,-544.5 345.5,-544.5 345.5,-498.5 108.5,-498.5\" stroke=\"#000000\"/>\n<text fill=\"#000000\" font-family=\"Times,serif\" font-size=\"14.00\" text-anchor=\"middle\" x=\"154.5\" y=\"-517.8\">dense: Dense</text>\n<polyline fill=\"none\" points=\"200.5,-498.5 200.5,-544.5 \" stroke=\"#000000\"/>\n<text fill=\"#000000\" font-family=\"Times,serif\" font-size=\"14.00\" text-anchor=\"middle\" x=\"229.5\" y=\"-529.3\">input:</text>\n<polyline fill=\"none\" points=\"200.5,-521.5 258.5,-521.5 \" stroke=\"#000000\"/>\n<text fill=\"#000000\" font-family=\"Times,serif\" font-size=\"14.00\" text-anchor=\"middle\" x=\"229.5\" y=\"-506.3\">output:</text>\n<polyline fill=\"none\" points=\"258.5,-498.5 258.5,-544.5 \" stroke=\"#000000\"/>\n<text fill=\"#000000\" font-family=\"Times,serif\" font-size=\"14.00\" text-anchor=\"middle\" x=\"302\" y=\"-529.3\">(None, 576)</text>\n<polyline fill=\"none\" points=\"258.5,-521.5 345.5,-521.5 \" stroke=\"#000000\"/>\n<text fill=\"#000000\" font-family=\"Times,serif\" font-size=\"14.00\" text-anchor=\"middle\" x=\"302\" y=\"-506.3\">(None, 128)</text>\n</g>\n<!-- 139721431865552&#45;&gt;139721431993040 -->\n<g class=\"edge\" id=\"edge13\">\n<title>139721431865552-&gt;139721431993040</title>\n<path d=\"M227,-581.3799C227,-573.1745 227,-563.7679 227,-554.8786\" fill=\"none\" stroke=\"#000000\"/>\n<polygon fill=\"#000000\" points=\"230.5001,-554.784 227,-544.784 223.5001,-554.784 230.5001,-554.784\" stroke=\"#000000\"/>\n</g>\n<!-- 139721431993936 -->\n<g class=\"node\" id=\"node15\">\n<title>139721431993936</title>\n<polygon fill=\"none\" points=\"19,-415.5 19,-461.5 435,-461.5 435,-415.5 19,-415.5\" stroke=\"#000000\"/>\n<text fill=\"#000000\" font-family=\"Times,serif\" font-size=\"14.00\" text-anchor=\"middle\" x=\"154.5\" y=\"-434.8\">batch_normalization_3: BatchNormalization</text>\n<polyline fill=\"none\" points=\"290,-415.5 290,-461.5 \" stroke=\"#000000\"/>\n<text fill=\"#000000\" font-family=\"Times,serif\" font-size=\"14.00\" text-anchor=\"middle\" x=\"319\" y=\"-446.3\">input:</text>\n<polyline fill=\"none\" points=\"290,-438.5 348,-438.5 \" stroke=\"#000000\"/>\n<text fill=\"#000000\" font-family=\"Times,serif\" font-size=\"14.00\" text-anchor=\"middle\" x=\"319\" y=\"-423.3\">output:</text>\n<polyline fill=\"none\" points=\"348,-415.5 348,-461.5 \" stroke=\"#000000\"/>\n<text fill=\"#000000\" font-family=\"Times,serif\" font-size=\"14.00\" text-anchor=\"middle\" x=\"391.5\" y=\"-446.3\">(None, 128)</text>\n<polyline fill=\"none\" points=\"348,-438.5 435,-438.5 \" stroke=\"#000000\"/>\n<text fill=\"#000000\" font-family=\"Times,serif\" font-size=\"14.00\" text-anchor=\"middle\" x=\"391.5\" y=\"-423.3\">(None, 128)</text>\n</g>\n<!-- 139721431993040&#45;&gt;139721431993936 -->\n<g class=\"edge\" id=\"edge14\">\n<title>139721431993040-&gt;139721431993936</title>\n<path d=\"M227,-498.3799C227,-490.1745 227,-480.7679 227,-471.8786\" fill=\"none\" stroke=\"#000000\"/>\n<polygon fill=\"#000000\" points=\"230.5001,-471.784 227,-461.784 223.5001,-471.784 230.5001,-471.784\" stroke=\"#000000\"/>\n</g>\n<!-- 139721431795600 -->\n<g class=\"node\" id=\"node16\">\n<title>139721431795600</title>\n<polygon fill=\"none\" points=\"87.5,-332.5 87.5,-378.5 366.5,-378.5 366.5,-332.5 87.5,-332.5\" stroke=\"#000000\"/>\n<text fill=\"#000000\" font-family=\"Times,serif\" font-size=\"14.00\" text-anchor=\"middle\" x=\"154.5\" y=\"-351.8\">dropout_3: Dropout</text>\n<polyline fill=\"none\" points=\"221.5,-332.5 221.5,-378.5 \" stroke=\"#000000\"/>\n<text fill=\"#000000\" font-family=\"Times,serif\" font-size=\"14.00\" text-anchor=\"middle\" x=\"250.5\" y=\"-363.3\">input:</text>\n<polyline fill=\"none\" points=\"221.5,-355.5 279.5,-355.5 \" stroke=\"#000000\"/>\n<text fill=\"#000000\" font-family=\"Times,serif\" font-size=\"14.00\" text-anchor=\"middle\" x=\"250.5\" y=\"-340.3\">output:</text>\n<polyline fill=\"none\" points=\"279.5,-332.5 279.5,-378.5 \" stroke=\"#000000\"/>\n<text fill=\"#000000\" font-family=\"Times,serif\" font-size=\"14.00\" text-anchor=\"middle\" x=\"323\" y=\"-363.3\">(None, 128)</text>\n<polyline fill=\"none\" points=\"279.5,-355.5 366.5,-355.5 \" stroke=\"#000000\"/>\n<text fill=\"#000000\" font-family=\"Times,serif\" font-size=\"14.00\" text-anchor=\"middle\" x=\"323\" y=\"-340.3\">(None, 128)</text>\n</g>\n<!-- 139721431993936&#45;&gt;139721431795600 -->\n<g class=\"edge\" id=\"edge15\">\n<title>139721431993936-&gt;139721431795600</title>\n<path d=\"M227,-415.3799C227,-407.1745 227,-397.7679 227,-388.8786\" fill=\"none\" stroke=\"#000000\"/>\n<polygon fill=\"#000000\" points=\"230.5001,-388.784 227,-378.784 223.5001,-388.784 230.5001,-388.784\" stroke=\"#000000\"/>\n</g>\n<!-- 139721430801296 -->\n<g class=\"node\" id=\"node17\">\n<title>139721430801296</title>\n<polygon fill=\"none\" points=\"101,-249.5 101,-295.5 353,-295.5 353,-249.5 101,-249.5\" stroke=\"#000000\"/>\n<text fill=\"#000000\" font-family=\"Times,serif\" font-size=\"14.00\" text-anchor=\"middle\" x=\"154.5\" y=\"-268.8\">dense_1: Dense</text>\n<polyline fill=\"none\" points=\"208,-249.5 208,-295.5 \" stroke=\"#000000\"/>\n<text fill=\"#000000\" font-family=\"Times,serif\" font-size=\"14.00\" text-anchor=\"middle\" x=\"237\" y=\"-280.3\">input:</text>\n<polyline fill=\"none\" points=\"208,-272.5 266,-272.5 \" stroke=\"#000000\"/>\n<text fill=\"#000000\" font-family=\"Times,serif\" font-size=\"14.00\" text-anchor=\"middle\" x=\"237\" y=\"-257.3\">output:</text>\n<polyline fill=\"none\" points=\"266,-249.5 266,-295.5 \" stroke=\"#000000\"/>\n<text fill=\"#000000\" font-family=\"Times,serif\" font-size=\"14.00\" text-anchor=\"middle\" x=\"309.5\" y=\"-280.3\">(None, 128)</text>\n<polyline fill=\"none\" points=\"266,-272.5 353,-272.5 \" stroke=\"#000000\"/>\n<text fill=\"#000000\" font-family=\"Times,serif\" font-size=\"14.00\" text-anchor=\"middle\" x=\"309.5\" y=\"-257.3\">(None, 64)</text>\n</g>\n<!-- 139721431795600&#45;&gt;139721430801296 -->\n<g class=\"edge\" id=\"edge16\">\n<title>139721431795600-&gt;139721430801296</title>\n<path d=\"M227,-332.3799C227,-324.1745 227,-314.7679 227,-305.8786\" fill=\"none\" stroke=\"#000000\"/>\n<polygon fill=\"#000000\" points=\"230.5001,-305.784 227,-295.784 223.5001,-305.784 230.5001,-305.784\" stroke=\"#000000\"/>\n</g>\n<!-- 139721430800528 -->\n<g class=\"node\" id=\"node18\">\n<title>139721430800528</title>\n<polygon fill=\"none\" points=\"22.5,-166.5 22.5,-212.5 431.5,-212.5 431.5,-166.5 22.5,-166.5\" stroke=\"#000000\"/>\n<text fill=\"#000000\" font-family=\"Times,serif\" font-size=\"14.00\" text-anchor=\"middle\" x=\"158\" y=\"-185.8\">batch_normalization_4: BatchNormalization</text>\n<polyline fill=\"none\" points=\"293.5,-166.5 293.5,-212.5 \" stroke=\"#000000\"/>\n<text fill=\"#000000\" font-family=\"Times,serif\" font-size=\"14.00\" text-anchor=\"middle\" x=\"322.5\" y=\"-197.3\">input:</text>\n<polyline fill=\"none\" points=\"293.5,-189.5 351.5,-189.5 \" stroke=\"#000000\"/>\n<text fill=\"#000000\" font-family=\"Times,serif\" font-size=\"14.00\" text-anchor=\"middle\" x=\"322.5\" y=\"-174.3\">output:</text>\n<polyline fill=\"none\" points=\"351.5,-166.5 351.5,-212.5 \" stroke=\"#000000\"/>\n<text fill=\"#000000\" font-family=\"Times,serif\" font-size=\"14.00\" text-anchor=\"middle\" x=\"391.5\" y=\"-197.3\">(None, 64)</text>\n<polyline fill=\"none\" points=\"351.5,-189.5 431.5,-189.5 \" stroke=\"#000000\"/>\n<text fill=\"#000000\" font-family=\"Times,serif\" font-size=\"14.00\" text-anchor=\"middle\" x=\"391.5\" y=\"-174.3\">(None, 64)</text>\n</g>\n<!-- 139721430801296&#45;&gt;139721430800528 -->\n<g class=\"edge\" id=\"edge17\">\n<title>139721430801296-&gt;139721430800528</title>\n<path d=\"M227,-249.3799C227,-241.1745 227,-231.7679 227,-222.8786\" fill=\"none\" stroke=\"#000000\"/>\n<polygon fill=\"#000000\" points=\"230.5001,-222.784 227,-212.784 223.5001,-222.784 230.5001,-222.784\" stroke=\"#000000\"/>\n</g>\n<!-- 139721431874128 -->\n<g class=\"node\" id=\"node19\">\n<title>139721431874128</title>\n<polygon fill=\"none\" points=\"91,-83.5 91,-129.5 363,-129.5 363,-83.5 91,-83.5\" stroke=\"#000000\"/>\n<text fill=\"#000000\" font-family=\"Times,serif\" font-size=\"14.00\" text-anchor=\"middle\" x=\"158\" y=\"-102.8\">dropout_4: Dropout</text>\n<polyline fill=\"none\" points=\"225,-83.5 225,-129.5 \" stroke=\"#000000\"/>\n<text fill=\"#000000\" font-family=\"Times,serif\" font-size=\"14.00\" text-anchor=\"middle\" x=\"254\" y=\"-114.3\">input:</text>\n<polyline fill=\"none\" points=\"225,-106.5 283,-106.5 \" stroke=\"#000000\"/>\n<text fill=\"#000000\" font-family=\"Times,serif\" font-size=\"14.00\" text-anchor=\"middle\" x=\"254\" y=\"-91.3\">output:</text>\n<polyline fill=\"none\" points=\"283,-83.5 283,-129.5 \" stroke=\"#000000\"/>\n<text fill=\"#000000\" font-family=\"Times,serif\" font-size=\"14.00\" text-anchor=\"middle\" x=\"323\" y=\"-114.3\">(None, 64)</text>\n<polyline fill=\"none\" points=\"283,-106.5 363,-106.5 \" stroke=\"#000000\"/>\n<text fill=\"#000000\" font-family=\"Times,serif\" font-size=\"14.00\" text-anchor=\"middle\" x=\"323\" y=\"-91.3\">(None, 64)</text>\n</g>\n<!-- 139721430800528&#45;&gt;139721431874128 -->\n<g class=\"edge\" id=\"edge18\">\n<title>139721430800528-&gt;139721431874128</title>\n<path d=\"M227,-166.3799C227,-158.1745 227,-148.7679 227,-139.8786\" fill=\"none\" stroke=\"#000000\"/>\n<polygon fill=\"#000000\" points=\"230.5001,-139.784 227,-129.784 223.5001,-139.784 230.5001,-139.784\" stroke=\"#000000\"/>\n</g>\n<!-- 139721430869072 -->\n<g class=\"node\" id=\"node20\">\n<title>139721430869072</title>\n<polygon fill=\"none\" points=\"104.5,-.5 104.5,-46.5 349.5,-46.5 349.5,-.5 104.5,-.5\" stroke=\"#000000\"/>\n<text fill=\"#000000\" font-family=\"Times,serif\" font-size=\"14.00\" text-anchor=\"middle\" x=\"158\" y=\"-19.8\">dense_2: Dense</text>\n<polyline fill=\"none\" points=\"211.5,-.5 211.5,-46.5 \" stroke=\"#000000\"/>\n<text fill=\"#000000\" font-family=\"Times,serif\" font-size=\"14.00\" text-anchor=\"middle\" x=\"240.5\" y=\"-31.3\">input:</text>\n<polyline fill=\"none\" points=\"211.5,-23.5 269.5,-23.5 \" stroke=\"#000000\"/>\n<text fill=\"#000000\" font-family=\"Times,serif\" font-size=\"14.00\" text-anchor=\"middle\" x=\"240.5\" y=\"-8.3\">output:</text>\n<polyline fill=\"none\" points=\"269.5,-.5 269.5,-46.5 \" stroke=\"#000000\"/>\n<text fill=\"#000000\" font-family=\"Times,serif\" font-size=\"14.00\" text-anchor=\"middle\" x=\"309.5\" y=\"-31.3\">(None, 64)</text>\n<polyline fill=\"none\" points=\"269.5,-23.5 349.5,-23.5 \" stroke=\"#000000\"/>\n<text fill=\"#000000\" font-family=\"Times,serif\" font-size=\"14.00\" text-anchor=\"middle\" x=\"309.5\" y=\"-8.3\">(None, 10)</text>\n</g>\n<!-- 139721431874128&#45;&gt;139721430869072 -->\n<g class=\"edge\" id=\"edge19\">\n<title>139721431874128-&gt;139721430869072</title>\n<path d=\"M227,-83.3799C227,-75.1745 227,-65.7679 227,-56.8786\" fill=\"none\" stroke=\"#000000\"/>\n<polygon fill=\"#000000\" points=\"230.5001,-56.784 227,-46.784 223.5001,-56.784 230.5001,-56.784\" stroke=\"#000000\"/>\n</g>\n</g>\n</svg>"
          },
          "metadata": {},
          "execution_count": 12
        }
      ]
    },
    {
      "cell_type": "code",
      "metadata": {
        "id": "O9dZXQo1Rgl9"
      },
      "source": [
        "submission['label'] = [np.argmax(x) for x in pred] # 각 클래스별 확률에서 제일 높은 확률의 클래스 할당"
      ],
      "execution_count": 15,
      "outputs": []
    },
    {
      "cell_type": "code",
      "metadata": {
        "id": "9muByihWRhPp"
      },
      "source": [
        "submission.to_csv('submission.csv', index = False)"
      ],
      "execution_count": 16,
      "outputs": []
    }
  ]
}